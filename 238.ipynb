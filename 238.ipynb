{
 "cells": [
  {
   "cell_type": "code",
   "execution_count": 3,
   "metadata": {},
   "outputs": [
    {
     "name": "stdout",
     "output_type": "stream",
     "text": [
      "[24, 12, 8, 6]\n"
     ]
    }
   ],
   "source": [
    "#find the product of an array except self\n",
    "# each element is the product of all elements in the array except for the current element\n",
    "def productExceptSelf(nums):\n",
    "\toutput = [1] * (len(nums))\n",
    "\t\n",
    "    #prefix\n",
    "\tval = 1\n",
    "\tfor i in range(len(nums)):\n",
    "\t\toutput[i] = val\n",
    "\t\tval *=nums[i]\n",
    "\t#postfix\n",
    "\tval = 1\n",
    "\tfor j in range(len(nums)-1,-1,-1):\n",
    "\t\toutput[j] *= val\n",
    "\t\tval *= nums[j]\n",
    "\treturn output\n",
    "print(productExceptSelf([1,2,3,4]))\n",
    "\n",
    "#O(n) time complexity"
   ]
  },
  {
   "cell_type": "code",
   "execution_count": null,
   "metadata": {},
   "outputs": [],
   "source": [
    "# most optimal way: create prefix and postfix and then store them into an array. two iterations of the array of nums, one for prefix and one for postfix\n",
    "# less optimal: a nested for loop that takes the product of all values if indexes don't match O(n^2)"
   ]
  },
  {
   "cell_type": "code",
   "execution_count": 6,
   "metadata": {},
   "outputs": [
    {
     "name": "stdout",
     "output_type": "stream",
     "text": [
      "[1, 1, 1, 1, 1, 1]\n",
      "[1, 1, 1, 1, 1, 1]\n"
     ]
    }
   ],
   "source": [
    "print([1]*6) #slow according to leetcode\n",
    "print([1]*(6)) #fast according to leetcode"
   ]
  }
 ],
 "metadata": {
  "kernelspec": {
   "display_name": "ecs117",
   "language": "python",
   "name": "python3"
  },
  "language_info": {
   "codemirror_mode": {
    "name": "ipython",
    "version": 3
   },
   "file_extension": ".py",
   "mimetype": "text/x-python",
   "name": "python",
   "nbconvert_exporter": "python",
   "pygments_lexer": "ipython3",
   "version": "3.11.8"
  }
 },
 "nbformat": 4,
 "nbformat_minor": 2
}
