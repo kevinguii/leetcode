{
 "cells": [
  {
   "cell_type": "code",
   "execution_count": 4,
   "metadata": {},
   "outputs": [
    {
     "name": "stdout",
     "output_type": "stream",
     "text": [
      "49\n"
     ]
    }
   ],
   "source": [
    "def maxArea(height: list[int]) -> int:\n",
    "        maxArea = 0\n",
    "        n = len(height)\n",
    "        for i in range(n-1):\n",
    "            length = 1\n",
    "            for j in range(i+1,n):\n",
    "                maxHeight = min(height[i],height[j])\n",
    "                maxArea = max(maxArea,length*maxHeight)\n",
    "                length+=1\n",
    "        return maxArea\n",
    "\n",
    "height = [1,8,6,2,5,4,8,3,7]\n",
    "print(maxArea(height))"
   ]
  },
  {
   "cell_type": "code",
   "execution_count": 7,
   "metadata": {},
   "outputs": [
    {
     "name": "stdout",
     "output_type": "stream",
     "text": [
      "49\n"
     ]
    }
   ],
   "source": [
    "def maxArea2(height:list[int]) ->int:\n",
    "\tleft = 0\n",
    "\tright = len(height)-1\n",
    "\tmaxArea = 0\n",
    "\twhile left<right:\n",
    "\t\tmaxHeight = min(height[left],height[right])\n",
    "\t\tmaxArea = max(maxArea,(right-left)*maxHeight)\n",
    "\t\tif height[left]<height[right]:\n",
    "\t\t\tleft+=1\n",
    "\t\telse:\n",
    "\t\t\tright-=1\n",
    "\treturn maxArea\n",
    "print(maxArea2(height))"
   ]
  }
 ],
 "metadata": {
  "kernelspec": {
   "display_name": "work",
   "language": "python",
   "name": "python3"
  },
  "language_info": {
   "codemirror_mode": {
    "name": "ipython",
    "version": 3
   },
   "file_extension": ".py",
   "mimetype": "text/x-python",
   "name": "python",
   "nbconvert_exporter": "python",
   "pygments_lexer": "ipython3",
   "version": "3.11.7"
  }
 },
 "nbformat": 4,
 "nbformat_minor": 2
}
