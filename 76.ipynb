{
 "cells": [
  {
   "cell_type": "code",
   "execution_count": 1,
   "metadata": {},
   "outputs": [
    {
     "data": {
      "text/plain": [
       "True"
      ]
     },
     "execution_count": 1,
     "metadata": {},
     "output_type": "execute_result"
    }
   ],
   "source": [
    "\"a\" in \"abc\""
   ]
  },
  {
   "cell_type": "code",
   "execution_count": 4,
   "metadata": {},
   "outputs": [
    {
     "name": "stdout",
     "output_type": "stream",
     "text": [
      "BANC\n"
     ]
    }
   ],
   "source": [
    "def minWindow(s: str, t: str) -> str:\n",
    "        if len(s) < len(t):\n",
    "            return \"\"\n",
    "        countT,window = {},{}\n",
    "        for c in t:\n",
    "            countT[c] = 1 + countT.get(c,0)\n",
    "        \n",
    "        res,resLen = [-1,-1],float(\"infinity\")\n",
    "        l = 0\n",
    "        have,need = 0,len(countT)\n",
    "        for r in range(len(s)):\n",
    "            window[s[r]] = 1 + window.get(s[r],0)\n",
    "            if s[r] in countT and window[s[r]]==countT[s[r]]:\n",
    "                have+=1\n",
    "            \n",
    "            while have == need:\n",
    "                if (r-l+1)<resLen:\n",
    "                    resLen = r-l+1\n",
    "                    res = [l,r]\n",
    "                window[s[l]] -= 1\n",
    "                if s[l] in countT and window[s[l]] < countT[s[l]]:\n",
    "                    have -= 1\n",
    "                l+=1\n",
    "        l,r = res\n",
    "        return s[l:r+1] if resLen!=float(\"infinity\") else \"\"\n",
    "\n",
    "s=\"ADOBECODEBANC\"\n",
    "t=\"ABC\"\n",
    "print(minWindow(s,t))"
   ]
  }
 ],
 "metadata": {
  "kernelspec": {
   "display_name": "work",
   "language": "python",
   "name": "python3"
  },
  "language_info": {
   "codemirror_mode": {
    "name": "ipython",
    "version": 3
   },
   "file_extension": ".py",
   "mimetype": "text/x-python",
   "name": "python",
   "nbconvert_exporter": "python",
   "pygments_lexer": "ipython3",
   "version": "3.11.7"
  }
 },
 "nbformat": 4,
 "nbformat_minor": 2
}
