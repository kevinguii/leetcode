{
 "cells": [
  {
   "cell_type": "code",
   "execution_count": 1,
   "metadata": {},
   "outputs": [
    {
     "data": {
      "text/plain": [
       "[1, 2, [3, 4]]"
      ]
     },
     "execution_count": 1,
     "metadata": {},
     "output_type": "execute_result"
    }
   ],
   "source": [
    "def groupAnagrams(self, strs: list[str]) -> list[list[str]]:\n",
    "\tgroups = []\n",
    "\tanagrams = []\n",
    "\tfor i in strs:\n",
    "\t\tif sorted(i) not in anagrams:\n",
    "\t\t\tanagrams.append(sorted(i))\n",
    "\t\t\tgroups.append([i])\n",
    "\t\telse:\n",
    "\t\t\tindex = anagrams.index(sorted(i))\n",
    "\t\t\tgroups[index].append(i)\n",
    "\treturn groups\n",
    "#works but v slow O(mnlogn) run time and O(1) space"
   ]
  },
  {
   "cell_type": "code",
   "execution_count": 4,
   "metadata": {},
   "outputs": [
    {
     "name": "stdout",
     "output_type": "stream",
     "text": [
      "[['eat', 'tea', 'ate'], ['tan', 'nat'], ['bat']]\n"
     ]
    }
   ],
   "source": [
    "from collections import defaultdict\n",
    "def groupAnagrams2(strs):\n",
    "\tres = defaultdict(list)\n",
    "\tfor i in strs:\n",
    "\t\tcount = [0]*26\n",
    "\t\tfor char in i:\n",
    "\t\t\tcount[ord(char)-ord(\"a\")]+=1\n",
    "\t\tres[tuple(count)].append(i)\n",
    "\treturn list(res.values())\n",
    "print(groupAnagrams2([\"eat\",\"tea\",\"tan\",\"ate\",\"nat\",\"bat\"]))\n",
    "#O(m*n) Time complexity, faster than prev solution\n"
   ]
  },
  {
   "cell_type": "code",
   "execution_count": 8,
   "metadata": {},
   "outputs": [
    {
     "name": "stdout",
     "output_type": "stream",
     "text": [
      "[['eat', 'tea', 'ate'], ['tan', 'nat'], ['bat']]\n"
     ]
    }
   ],
   "source": [
    "def groupanagrams3(strs):\n",
    "    anagram_map = defaultdict(list)\n",
    "            \n",
    "    for word in strs:\n",
    "        sorted_word = sorted(word)\n",
    "        anagram_map[tuple(sorted_word)].append(word)\n",
    "\n",
    "    return list(anagram_map.values())\n",
    "print(groupanagrams3([\"eat\",\"tea\",\"tan\",\"ate\",\"nat\",\"bat\"]))\n",
    "# O(n*klogk) TC: k is the max length of a word in strs\n",
    "# O(n*k) SC: k is the length of each tuple"
   ]
  }
 ],
 "metadata": {
  "kernelspec": {
   "display_name": "ecs117",
   "language": "python",
   "name": "python3"
  },
  "language_info": {
   "codemirror_mode": {
    "name": "ipython",
    "version": 3
   },
   "file_extension": ".py",
   "mimetype": "text/x-python",
   "name": "python",
   "nbconvert_exporter": "python",
   "pygments_lexer": "ipython3",
   "version": "3.11.8"
  }
 },
 "nbformat": 4,
 "nbformat_minor": 2
}
