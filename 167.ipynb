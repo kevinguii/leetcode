{
 "cells": [
  {
   "cell_type": "code",
   "execution_count": 4,
   "metadata": {},
   "outputs": [
    {
     "name": "stdout",
     "output_type": "stream",
     "text": [
      "[2, 3]\n"
     ]
    }
   ],
   "source": [
    "def twoSum(numbers: list[int], target: int) -> list[int]:\n",
    "        left, right = 0, len(numbers) - 1\n",
    "        \n",
    "        while left < right:\n",
    "            sum_ = numbers[left] + numbers[right]\n",
    "            if sum_ == target:\n",
    "                return [left + 1, right + 1]\n",
    "            elif sum_ < target:\n",
    "                left += 1\n",
    "            else:\n",
    "                right -= 1\n",
    "        \n",
    "        return []\n",
    "print(twoSum([5,25,75],100))\n",
    "#optimal solution\n",
    "# TC O(n) with two pointers and O(1) SC"
   ]
  }
 ],
 "metadata": {
  "kernelspec": {
   "display_name": "ecs117",
   "language": "python",
   "name": "python3"
  },
  "language_info": {
   "codemirror_mode": {
    "name": "ipython",
    "version": 3
   },
   "file_extension": ".py",
   "mimetype": "text/x-python",
   "name": "python",
   "nbconvert_exporter": "python",
   "pygments_lexer": "ipython3",
   "version": "3.11.8"
  }
 },
 "nbformat": 4,
 "nbformat_minor": 2
}
