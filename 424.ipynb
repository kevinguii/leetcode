{
 "cells": [
  {
   "cell_type": "markdown",
   "metadata": {},
   "source": [
    "# 424. Longest Repeating Character Replacement"
   ]
  },
  {
   "cell_type": "code",
   "execution_count": null,
   "metadata": {},
   "outputs": [],
   "source": [
    "#not as optimal solution\n",
    "# O(26n) runtime\n",
    "# keep a count of most frequently occuring letter and increase\n",
    "# the result as long as the number of replacement is below \n",
    "# what you are required\n",
    "\n",
    "def characterReplacement(s:str,k:int):\n",
    "\tcount = {}\n",
    "\tres = 0\n",
    "\tl = 0\n",
    "\tfor r in range(len(s)):\n",
    "\t\tcount[s[r]] = 1 + count.get(s[r],0)\n",
    "\t\t#if exceeds given number of replacements allowed\n",
    "\t\twhile (r-l+1) - max(count.values()) > k:\n",
    "\t\t\tcount[s[l]] -=1\n",
    "\t\t\tl+=1\n",
    "\t\tres = max(res,r-l+1)\n",
    "\treturn res"
   ]
  },
  {
   "cell_type": "code",
   "execution_count": null,
   "metadata": {},
   "outputs": [],
   "source": [
    "# more optimal solution\n",
    "# keep max frequency as a constant variable that can only inc not decrease\n",
    "#O(n)\n",
    "\n",
    "def characterReplacement(s:str,k:int):\n",
    "\tcount = {}\n",
    "\tres = 0\n",
    "\tl = 0\n",
    "\tmaxf = 0\n",
    "\tfor r in range(len(s)):\n",
    "\t\tcount[s[r]] = 1 + count.get(s[r],0)\n",
    "\t\tmaxf = max(maxf,count[s[r]])\n",
    "\t\t#if exceeds given number of replacements allowed\n",
    "\t\twhile (r-l+1) - maxf > k:\n",
    "\t\t\tcount[s[l]] -=1\n",
    "\t\t\tl+=1\n",
    "\t\tres = max(res,r-l+1)\n",
    "\treturn res"
   ]
  }
 ],
 "metadata": {
  "language_info": {
   "name": "python"
  }
 },
 "nbformat": 4,
 "nbformat_minor": 2
}
