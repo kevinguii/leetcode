{
 "cells": [
  {
   "cell_type": "code",
   "execution_count": 1,
   "metadata": {},
   "outputs": [],
   "source": [
    "# Encode and Decode Strings"
   ]
  },
  {
   "cell_type": "code",
   "execution_count": null,
   "metadata": {},
   "outputs": [],
   "source": [
    "def encode(self, strs: List[str]) -> str:\n",
    "\tres = \"\"\n",
    "\tfor new_str in strs:\n",
    "\t\tres += str(len(new_str)) + \"#\" + new_str\n",
    "\treturn res\n",
    "\n",
    "def decode(self, s: str) -> List[str]:\n",
    "\tres = []\n",
    "\ti = 0\n",
    "\twhile i < len(s):\n",
    "\t\tj = i\n",
    "\t\twhile s[j]!='#':\n",
    "\t\t\tj+=1\n",
    "\t\tlength = int(s[i:j])\n",
    "\t\tres.append(s[j+1:j+1+length])\n",
    "\t\ti = j+1+length\n",
    "\treturn res\n"
   ]
  }
 ],
 "metadata": {
  "kernelspec": {
   "display_name": "work",
   "language": "python",
   "name": "python3"
  },
  "language_info": {
   "codemirror_mode": {
    "name": "ipython",
    "version": 3
   },
   "file_extension": ".py",
   "mimetype": "text/x-python",
   "name": "python",
   "nbconvert_exporter": "python",
   "pygments_lexer": "ipython3",
   "version": "3.11.7"
  }
 },
 "nbformat": 4,
 "nbformat_minor": 2
}
