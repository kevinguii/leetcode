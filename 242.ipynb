{
 "cells": [
  {
   "cell_type": "code",
   "execution_count": 2,
   "metadata": {},
   "outputs": [
    {
     "name": "stdout",
     "output_type": "stream",
     "text": [
      "False\n"
     ]
    }
   ],
   "source": [
    "def isAnagram(s: str, t: str) -> bool:\n",
    "        if len(s) != len(t):\n",
    "             return False\n",
    "        hashSet = {}\n",
    "        for i in range(len(s)):\n",
    "            if s[i] in hashSet:\n",
    "                hashSet[s[i]] +=1\n",
    "            else:\n",
    "                hashSet[s[i]] = 1\n",
    "    \n",
    "        for i in range(len(t)):\n",
    "            if t[i] not in hashSet or hashSet[t[i]] == 0:\n",
    "                return False\n",
    "            else:\n",
    "                hashSet[t[i]] -=1\n",
    "        return True\n",
    "print(isAnagram(\"rat\",'car'))"
   ]
  }
 ],
 "metadata": {
  "kernelspec": {
   "display_name": "ecs117",
   "language": "python",
   "name": "python3"
  },
  "language_info": {
   "codemirror_mode": {
    "name": "ipython",
    "version": 3
   },
   "file_extension": ".py",
   "mimetype": "text/x-python",
   "name": "python",
   "nbconvert_exporter": "python",
   "pygments_lexer": "ipython3",
   "version": "3.1.undefined"
  }
 },
 "nbformat": 4,
 "nbformat_minor": 2
}
