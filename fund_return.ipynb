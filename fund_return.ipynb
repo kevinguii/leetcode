{
 "cells": [
  {
   "cell_type": "markdown",
   "metadata": {},
   "source": [
    "You’re given two lists:\n",
    "\n",
    "A dictionary of deposits and withdrawals into an index fund with timestamps.\n",
    "A daily price of the index fund by date.\n",
    "Write a function fund_return to calculate the total profit gained from investing in the index from the start to end date. You may only purchase and sell discrete shares of the index fund. For example, if you have $23 and the price of the index is $5, you may only purchase four shares.\n",
    "\n",
    "For the purposes of this question, assume that the revenue (or loss) from the index fund is applied to the deposited funds at the beginning of every day based on the percentage increase in the price of the index and that the purchases (or withdrawals) are made before the end of each day.\n",
    "\n",
    "Example:\n",
    "\n",
    "Input:\n",
    "\n",
    "purchases = {'date': ['2021-06-21', '2021-06-23', '2021-06-24'],\n",
    "             'purchase': [10000.00, -1000.00, 1000.00]}\n",
    "\n",
    "prices = {'date': ['2021-06-21', '2021-06-22', '2021-06-23',\n",
    "          '2021-06-24', '2021-06-25'], 'price': [50.00, 55.00, 50.00,\n",
    "          55.00, 60.50]}\n",
    "Output:\n",
    "\n",
    "def fund_return(purchases, prices) -> 1989.00\n",
    "Explanation:\n",
    "\n",
    "2021-06-21: Purchase 200 shares for $10,000\n",
    "2021-06-23: Sell 20 shares for $1,000\n",
    "2021-06-24: Purchase 18 shares for $990 now have spent $9990 total\n",
    "2021-06-25: Own 198 shares with value $60.50 per share. 198 * 60.5 = 11,979\n",
    "We spent a total of $9,990 on the index fund. So our total profit is 11,979-9990 = 1989\n"
   ]
  },
  {
   "cell_type": "code",
   "execution_count": 1,
   "metadata": {},
   "outputs": [],
   "source": [
    "purchases = {'date': ['2021-06-21', '2021-06-23', '2021-06-24'],\n",
    "             'purchase': [10000.00, -1000.00, 1000.00]}\n",
    "\n",
    "prices = {'date': ['2021-06-21', '2021-06-22', '2021-06-23',\n",
    "          '2021-06-24', '2021-06-25'], 'price': [50.00, 55.00, 50.00,\n",
    "          55.00, 60.50]}"
   ]
  },
  {
   "cell_type": "code",
   "execution_count": 5,
   "metadata": {},
   "outputs": [
    {
     "name": "stdout",
     "output_type": "stream",
     "text": [
      "1989.0\n"
     ]
    }
   ],
   "source": [
    "def fund_return(purchases, prices):\n",
    "  total_spent = 0\n",
    "  num_total_shares = 0\n",
    "\n",
    "  for i in range(len(purchases['date'])):\n",
    "    purchase_date = purchases['date'][i]\n",
    "    amount = purchases['purchase'][i]\n",
    "\n",
    "    price_idx = prices['date'].index(purchase_date)\n",
    "    price_per_share = prices['price'][price_idx]\n",
    "    num_shares = abs(amount//price_per_share)\n",
    "\n",
    "\n",
    "    if amount > 0: #buy\n",
    "      total_spent += num_shares * price_per_share\n",
    "      num_total_shares += num_shares\n",
    "    else: #sell\n",
    "      total_spent -= num_shares * price_per_share\n",
    "      num_total_shares -= num_shares\n",
    "  \n",
    "  final_price_per_share = prices['price'][-1]\n",
    "  return final_price_per_share*num_total_shares - total_spent\n",
    "\n",
    "print(fund_return(purchases, prices))\n",
    "\n"
   ]
  },
  {
   "cell_type": "code",
   "execution_count": 8,
   "metadata": {},
   "outputs": [
    {
     "name": "stdout",
     "output_type": "stream",
     "text": [
      "1989.0\n"
     ]
    }
   ],
   "source": [
    "def fund_return(purchases, prices):\n",
    "    # Convert prices to a dictionary for fast lookups\n",
    "    price_dict = dict(zip(prices['date'], prices['price']))\n",
    "\n",
    "    total_spent = 0\n",
    "    num_total_shares = 0\n",
    "\n",
    "    for i in range(len(purchases['date'])):\n",
    "        purchase_date = purchases['date'][i]\n",
    "        amount = purchases['purchase'][i]\n",
    "\n",
    "        # Lookup the price for the current purchase date\n",
    "        price_per_share = price_dict[purchase_date]\n",
    "        num_shares = abs(amount // price_per_share)\n",
    "\n",
    "        if amount > 0:  # buy\n",
    "            total_spent += num_shares * price_per_share\n",
    "            num_total_shares += num_shares\n",
    "        else:  # sell\n",
    "            total_spent -= num_shares * price_per_share\n",
    "            num_total_shares -= num_shares\n",
    "\n",
    "    # Final price of the index fund\n",
    "    final_price_per_share = prices['price'][-1]\n",
    "    return round(final_price_per_share * num_total_shares - total_spent, 2)\n",
    "\n",
    "print(fund_return(purchases,prices))"
   ]
  }
 ],
 "metadata": {
  "kernelspec": {
   "display_name": "work",
   "language": "python",
   "name": "python3"
  },
  "language_info": {
   "codemirror_mode": {
    "name": "ipython",
    "version": 3
   },
   "file_extension": ".py",
   "mimetype": "text/x-python",
   "name": "python",
   "nbconvert_exporter": "python",
   "pygments_lexer": "ipython3",
   "version": "3.11.7"
  }
 },
 "nbformat": 4,
 "nbformat_minor": 2
}
