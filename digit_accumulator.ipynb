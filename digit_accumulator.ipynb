{
 "cells": [
  {
   "cell_type": "markdown",
   "metadata": {},
   "source": [
    "You are given a string that represents some floating-point number. Write a function, digit_accumulator, that returns the sum of every digit in the string.\n",
    "\n",
    "Example:\n",
    "\n",
    "Input:\n",
    "\n",
    "s = \"123.0045\"\n",
    "Output:\n",
    "\n",
    "def digit_accumulator(s) -> 15\n",
    "\n",
    "Since \n",
    "1 + 2 + 3 + 0 + 0 + 4 + 5 = 15"
   ]
  },
  {
   "cell_type": "code",
   "execution_count": 3,
   "metadata": {},
   "outputs": [
    {
     "name": "stdout",
     "output_type": "stream",
     "text": [
      "15\n"
     ]
    }
   ],
   "source": [
    "def digit_accumulator(s):\n",
    "\tsum = 0\n",
    "\tfor letter in s:\n",
    "\t\tif letter.isnumeric():\n",
    "\t\t\tsum+=int(letter)\n",
    "\treturn sum\n",
    "\n",
    "s = \"123.0045\"\n",
    "\n",
    "print(digit_accumulator(s))"
   ]
  }
 ],
 "metadata": {
  "kernelspec": {
   "display_name": "work",
   "language": "python",
   "name": "python3"
  },
  "language_info": {
   "codemirror_mode": {
    "name": "ipython",
    "version": 3
   },
   "file_extension": ".py",
   "mimetype": "text/x-python",
   "name": "python",
   "nbconvert_exporter": "python",
   "pygments_lexer": "ipython3",
   "version": "3.11.7"
  }
 },
 "nbformat": 4,
 "nbformat_minor": 2
}
