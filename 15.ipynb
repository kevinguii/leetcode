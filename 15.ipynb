{
 "cells": [
  {
   "cell_type": "markdown",
   "metadata": {},
   "source": [
    "# Three Sum"
   ]
  },
  {
   "cell_type": "code",
   "execution_count": null,
   "metadata": {},
   "outputs": [],
   "source": [
    "#brute force approach\n",
    "#3 nested for loops: 1 for each number\n",
    "#O(N^3) time complexity, not optimal\n",
    "def threeSum(nums):\n",
    "\tnums.sort()\n",
    "\tres = []\n",
    "\tfor i in range(len(nums)):\n",
    "\t\tfor j in range(i+1,len(nums)):\n",
    "\t\t\tfor k in range(j+1,len(nums)):\n",
    "\t\t\t\tif nums[i]+nums[j]+nums[k]==0:\n",
    "\t\t\t\t\tresult = res.append([nums[i],nums[j],nums[k]])\n",
    "\t\t\t\t\tif result not in res:\n",
    "\t\t\t\t\t\tres.append(result)\n",
    "\treturn res"
   ]
  },
  {
   "cell_type": "code",
   "execution_count": null,
   "metadata": {},
   "outputs": [],
   "source": [
    "#most optimal solution:\n",
    "#O(N^2) time complexity because it only needs to run the loops twice\n",
    "#Space complexity depends on sorting\n",
    "class Solution:\n",
    "    def threeSum(nums: list[int]) -> list[list[int]]:\n",
    "        nums.sort()\n",
    "        res = []\n",
    "\n",
    "        for i, val in enumerate(nums):\n",
    "            if i>0 and val==nums[i-1]:\n",
    "                continue\n",
    "\n",
    "            l,r = i+1,len(nums)-1\n",
    "            while l<r:\n",
    "                threeSum = val + nums[l] + nums[r]\n",
    "                if threeSum > 0:\n",
    "                    r -=1\n",
    "                elif threeSum < 0:\n",
    "                    l+=1\n",
    "                else:\n",
    "                    res.append([val,nums[l],nums[r]])\n",
    "                    l +=1\n",
    "                    #checking for the same value and making sure l<r\n",
    "                    while nums[l] == nums[l-1] and l<r:\n",
    "                        l+=1\n",
    "        return res"
   ]
  }
 ],
 "metadata": {
  "language_info": {
   "name": "python"
  }
 },
 "nbformat": 4,
 "nbformat_minor": 2
}
