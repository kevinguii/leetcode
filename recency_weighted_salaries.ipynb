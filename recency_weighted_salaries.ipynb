{
 "cells": [
  {
   "cell_type": "markdown",
   "metadata": {},
   "source": [
    "The recency weighting should ensure that the salaries from more recent years are weighted more heavily than the less relevant salaries of years that are farther in the past.\n",
    "\n",
    "Write the function to compute the average data scientist salary given a mapped linear recency weighting on the data. In this case the input previous_salaries is a list of the salaries of the last n years and the list is ordered chronologically, with the most recent year coming last.\n",
    "\n",
    "Round the result to two-digit numbers.\n",
    "\n",
    "Example:\n",
    "\n",
    "#input\n",
    "previous_salaries = [64000,66000,75000,88000,90000]\n",
    "\n",
    "#output\n",
    "recency_weighted_salaries(previous_salaries) -> 81533.33\n",
    "Explanation: We have the 5 salaries from the 5 years. We should give weight 1 to the first-year salary, 2 to the second one and so on till we reach the end and give weight 5 to the most recent year salary at the end"
   ]
  },
  {
   "cell_type": "code",
   "execution_count": 1,
   "metadata": {},
   "outputs": [
    {
     "name": "stdout",
     "output_type": "stream",
     "text": [
      "81533.33333333333\n"
     ]
    }
   ],
   "source": [
    "def recency_weighted_salaries(previous_salaries):\n",
    "\tsalaries = 0\n",
    "\tdenom = 0\n",
    "\n",
    "\tfor i in range(1,len(previous_salaries)+1):\n",
    "\t\tsalaries += previous_salaries[i-1]*i\n",
    "\t\tdenom+=i\n",
    "\treturn salaries/denom\n",
    "\n",
    "previous_salaries = [64000,66000,75000,88000,90000]\n",
    "print(recency_weighted_salaries(previous_salaries))"
   ]
  }
 ],
 "metadata": {
  "kernelspec": {
   "display_name": "work",
   "language": "python",
   "name": "python3"
  },
  "language_info": {
   "codemirror_mode": {
    "name": "ipython",
    "version": 3
   },
   "file_extension": ".py",
   "mimetype": "text/x-python",
   "name": "python",
   "nbconvert_exporter": "python",
   "pygments_lexer": "ipython3",
   "version": "3.11.7"
  }
 },
 "nbformat": 4,
 "nbformat_minor": 2
}
