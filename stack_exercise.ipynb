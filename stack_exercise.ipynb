{
 "cells": [
  {
   "cell_type": "markdown",
   "metadata": {},
   "source": [
    "Find the next greater element for each element in an array. Output -1 if the greater element doesn’t exist.\n",
    "\n",
    "Example:\n",
    "\n",
    "Input: nums = [2, 1, 2, 4, 3]\n",
    "\n",
    "Output: [4, 2, 4, -1, -1]\n",
    "\n"
   ]
  },
  {
   "cell_type": "code",
   "execution_count": 1,
   "metadata": {},
   "outputs": [
    {
     "name": "stdout",
     "output_type": "stream",
     "text": [
      "[4, 2, 4, -1, -1]\n"
     ]
    }
   ],
   "source": [
    "nums = [2,1,2,4,3]\n",
    "def next_greater_element(nums):\n",
    "\tstack = []\n",
    "\tresult = [-1] * len(nums)\n",
    "\tfor i in range(len(nums)):\n",
    "\t\twhile stack and nums[i] > nums[stack[-1]]:\n",
    "\t\t\tindex = stack.pop()\n",
    "\t\t\tresult[index] = nums[i]\n",
    "\t\tstack.append(i)\n",
    "\treturn result\n",
    "\n",
    "print(next_greater_element(nums))"
   ]
  },
  {
   "cell_type": "markdown",
   "metadata": {},
   "source": [
    "My idea of how the algorithm works. You have stack, which stores the indexes of the values. then as you iterate through the array, you are checking if the current value in the array is greater than the top of the stack indexed value, the last index in the stack. If it is, you will replace that index with the current number and continue going through the stack until it is empty or the value isn't greater. This goes all the way through the array and the ones that have a greater next integer will be replaced and those that aren't will just be left -1."
   ]
  }
 ],
 "metadata": {
  "kernelspec": {
   "display_name": "work",
   "language": "python",
   "name": "python3"
  },
  "language_info": {
   "codemirror_mode": {
    "name": "ipython",
    "version": 3
   },
   "file_extension": ".py",
   "mimetype": "text/x-python",
   "name": "python",
   "nbconvert_exporter": "python",
   "pygments_lexer": "ipython3",
   "version": "3.11.7"
  }
 },
 "nbformat": 4,
 "nbformat_minor": 2
}
