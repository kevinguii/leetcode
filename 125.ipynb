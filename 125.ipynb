{
 "cells": [
  {
   "cell_type": "code",
   "execution_count": 9,
   "metadata": {},
   "outputs": [
    {
     "name": "stdout",
     "output_type": "stream",
     "text": [
      "False\n"
     ]
    }
   ],
   "source": [
    "import string\n",
    "def isPalindrome(s: str) -> bool:\n",
    "        n = len(s)\n",
    "        left = 0\n",
    "        right = n-1\n",
    "        while left<right:\n",
    "            while left<right and not s[left].isalnum():\n",
    "                left+=1\n",
    "            while left<right and not s[right].isalnum():\n",
    "                right -=1\n",
    "            if s[left].lower()!=s[right].lower():\n",
    "                return False\n",
    "            left +=1\n",
    "            right -=1\n",
    "        return True\n",
    "\n",
    "s = \"race a car\"\n",
    "print(isPalindrome(s))"
   ]
  },
  {
   "cell_type": "code",
   "execution_count": 8,
   "metadata": {},
   "outputs": [
    {
     "data": {
      "text/plain": [
       "'raceacar'"
      ]
     },
     "execution_count": 8,
     "metadata": {},
     "output_type": "execute_result"
    }
   ],
   "source": [
    "s_new = \"\".join(char for char in s if char not in string.punctuation + \" \").lower()\n",
    "s_new"
   ]
  }
 ],
 "metadata": {
  "kernelspec": {
   "display_name": "ecs117",
   "language": "python",
   "name": "python3"
  },
  "language_info": {
   "codemirror_mode": {
    "name": "ipython",
    "version": 3
   },
   "file_extension": ".py",
   "mimetype": "text/x-python",
   "name": "python",
   "nbconvert_exporter": "python",
   "pygments_lexer": "ipython3",
   "version": "3.11.8"
  }
 },
 "nbformat": 4,
 "nbformat_minor": 2
}
