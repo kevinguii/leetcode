{
 "cells": [
  {
   "cell_type": "code",
   "execution_count": 7,
   "metadata": {},
   "outputs": [],
   "source": [
    "def maxProfit(prices: list[int]) -> int:\n",
    "\tleft,right = 0,1\n",
    "\tmaxprofit = 0\n",
    "\twhile right<len(prices):\n",
    "\t\tif prices[left]<prices[right]:\n",
    "\t\t\tmaxprofit = max(maxprofit,prices[right]-prices[left])\n",
    "\t\telse:\n",
    "\t\t\tleft = right\n",
    "\t\tright+=1\n",
    "\treturn maxprofit"
   ]
  },
  {
   "cell_type": "code",
   "execution_count": null,
   "metadata": {},
   "outputs": [],
   "source": [
    "def maxproft(prices):\n",
    "\tbuy = prices[0]\n",
    "\tprofit = 0\n",
    "\tfor i in range(1, len(prices)):\n",
    "\t\tif prices[i] < buy:\n",
    "\t\t\tbuy = prices[i]\n",
    "\t\telif prices[i] - buy > profit:\n",
    "\t\t\tprofit = prices[i] - buy\n",
    "\treturn profit\n",
    "#O(n) TC and O(1) SC"
   ]
  },
  {
   "cell_type": "code",
   "execution_count": 8,
   "metadata": {},
   "outputs": [
    {
     "name": "stdout",
     "output_type": "stream",
     "text": [
      "5\n"
     ]
    }
   ],
   "source": [
    "a = [7,1,5,3,6,4]\n",
    "print(maxProfit(a))"
   ]
  }
 ],
 "metadata": {
  "kernelspec": {
   "display_name": "ecs117",
   "language": "python",
   "name": "python3"
  },
  "language_info": {
   "codemirror_mode": {
    "name": "ipython",
    "version": 3
   },
   "file_extension": ".py",
   "mimetype": "text/x-python",
   "name": "python",
   "nbconvert_exporter": "python",
   "pygments_lexer": "ipython3",
   "version": "3.1.-1"
  }
 },
 "nbformat": 4,
 "nbformat_minor": 2
}
