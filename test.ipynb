{
 "cells": [
  {
   "cell_type": "code",
   "execution_count": 5,
   "metadata": {},
   "outputs": [],
   "source": [
    "def calculate_binary(s:str)->int:\n",
    "        sum = 0\n",
    "        pos = 0\n",
    "        str_s = str(s)\n",
    "        n = len(str_s)\n",
    "        for x in range(n-1,-1,-1):\n",
    "            sum+=(2^x)*int(str_s[pos])\n",
    "            pos+=1\n",
    "        return sum\n",
    "hi = calculate_binary(1101)"
   ]
  },
  {
   "cell_type": "code",
   "execution_count": 1,
   "metadata": {},
   "outputs": [
    {
     "name": "stdout",
     "output_type": "stream",
     "text": [
      "25 24 23 22 21 20 19 18 17 16 15 14 13 12 11 10 9 8 7 6 5 4 3 \n"
     ]
    }
   ],
   "source": [
    "for i in range(25, 2, -1):\n",
    "    print(i, end=\" \")\n",
    "print()"
   ]
  },
  {
   "cell_type": "code",
   "execution_count": 10,
   "metadata": {},
   "outputs": [
    {
     "data": {
      "text/plain": [
       "True"
      ]
     },
     "execution_count": 10,
     "metadata": {},
     "output_type": "execute_result"
    }
   ],
   "source": [
    "hi = {\n",
    "\t'hi':1,\n",
    "\t'bye':2,\n",
    "\t'idsafasd':3\n",
    "}\n",
    "1 in hi.values()"
   ]
  },
  {
   "cell_type": "code",
   "execution_count": 17,
   "metadata": {},
   "outputs": [
    {
     "data": {
      "text/plain": [
       "True"
      ]
     },
     "execution_count": 17,
     "metadata": {},
     "output_type": "execute_result"
    }
   ],
   "source": [
    "blah = set()\n",
    "blah.add(1)\n",
    "blah.add(2)\n",
    "blah.add(1)\n",
    "1 in blah"
   ]
  },
  {
   "cell_type": "code",
   "execution_count": 13,
   "metadata": {},
   "outputs": [
    {
     "data": {
      "text/plain": [
       "[1, 2, 3, 4]"
      ]
     },
     "execution_count": 13,
     "metadata": {},
     "output_type": "execute_result"
    }
   ],
   "source": [
    "arr1 = [1,3]\n",
    "arr2 = [2,4]\n",
    "arr3 = arr1+arr2\n",
    "arr3 = sorted(arr3)\n",
    "arr3"
   ]
  },
  {
   "cell_type": "code",
   "execution_count": 2,
   "metadata": {},
   "outputs": [
    {
     "data": {
      "text/plain": [
       "['date', 'apple', 'banana', 'cherry']"
      ]
     },
     "execution_count": 2,
     "metadata": {},
     "output_type": "execute_result"
    }
   ],
   "source": [
    "words = [\"apple\", \"banana\", \"cherry\", \"date\"]\n",
    "sorted_by_len = sorted(words,key=len)\n",
    "sorted_by_len"
   ]
  },
  {
   "cell_type": "code",
   "execution_count": 3,
   "metadata": {},
   "outputs": [
    {
     "data": {
      "text/plain": [
       "True"
      ]
     },
     "execution_count": 3,
     "metadata": {},
     "output_type": "execute_result"
    }
   ],
   "source": [
    "\"cat\" in \"cattle\""
   ]
  }
 ],
 "metadata": {
  "kernelspec": {
   "display_name": "ecs117",
   "language": "python",
   "name": "python3"
  },
  "language_info": {
   "codemirror_mode": {
    "name": "ipython",
    "version": 3
   },
   "file_extension": ".py",
   "mimetype": "text/x-python",
   "name": "python",
   "nbconvert_exporter": "python",
   "pygments_lexer": "ipython3",
   "version": "3.11.8"
  }
 },
 "nbformat": 4,
 "nbformat_minor": 2
}
