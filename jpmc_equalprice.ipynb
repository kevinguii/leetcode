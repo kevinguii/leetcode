{
 "cells": [
  {
   "cell_type": "code",
   "execution_count": 2,
   "metadata": {},
   "outputs": [
    {
     "name": "stdout",
     "output_type": "stream",
     "text": [
      "[3, 2, 3, 9]\n"
     ]
    }
   ],
   "source": [
    "from bisect import bisect_left\n",
    "\n",
    "def countMinimumOperations(price, query):\n",
    "    price.sort()\n",
    "    n = len(price)\n",
    "    \n",
    "    # Compute prefix sums\n",
    "    prefix_sum = [0] * (n + 1)\n",
    "    for i in range(n):\n",
    "        prefix_sum[i + 1] = prefix_sum[i] + price[i]\n",
    "    \n",
    "    result = []\n",
    "    \n",
    "    for q in query:\n",
    "        # Binary search to find the first element >= q\n",
    "        idx = bisect_left(price, q)\n",
    "        \n",
    "        # Calculate operations needed for elements less than q\n",
    "        left_operations = q * idx - prefix_sum[idx]\n",
    "        \n",
    "        # Calculate operations needed for elements greater than or equal to q\n",
    "        right_operations = (prefix_sum[n] - prefix_sum[idx]) - q * (n - idx)\n",
    "        \n",
    "        # Total operations\n",
    "        result.append(left_operations + right_operations)\n",
    "    \n",
    "    return result\n",
    "\n",
    "# Example usage:\n",
    "price = [1, 2, 3]\n",
    "query = [3, 2, 1, 5]\n",
    "print(countMinimumOperations(price, query))  # Output: [3, 2, 3, 9]\n"
   ]
  }
 ],
 "metadata": {
  "kernelspec": {
   "display_name": "work",
   "language": "python",
   "name": "python3"
  },
  "language_info": {
   "codemirror_mode": {
    "name": "ipython",
    "version": 3
   },
   "file_extension": ".py",
   "mimetype": "text/x-python",
   "name": "python",
   "nbconvert_exporter": "python",
   "pygments_lexer": "ipython3",
   "version": "3.11.7"
  }
 },
 "nbformat": 4,
 "nbformat_minor": 2
}
