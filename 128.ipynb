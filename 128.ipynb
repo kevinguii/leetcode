{
 "cells": [
  {
   "cell_type": "markdown",
   "metadata": {},
   "source": [
    "# 128. Longest Consecutive Sequence"
   ]
  },
  {
   "cell_type": "code",
   "execution_count": 1,
   "metadata": {},
   "outputs": [
    {
     "name": "stdout",
     "output_type": "stream",
     "text": [
      "3\n"
     ]
    }
   ],
   "source": [
    "#not optimal\n",
    "#sort the array and find the longest sequence that way\n",
    "#O(nlogn) time complexity and O(n) space complexity\n",
    "def longestConsecutive(nums):\n",
    "    if not nums:\n",
    "        return 0\n",
    "\n",
    "    nums.sort()\n",
    "    longest_streak = 1\n",
    "    current_streak = 1\n",
    "\n",
    "    for i in range(1, len(nums)):\n",
    "        if nums[i] != nums[i-1]:\n",
    "            if nums[i] == nums[i-1] + 1:\n",
    "                current_streak += 1\n",
    "            else:\n",
    "                longest_streak = max(longest_streak, current_streak)\n",
    "                current_streak = 1\n",
    "\n",
    "    return max(longest_streak, current_streak)\n",
    "\n",
    "print(longestConsecutive([1,2,0,1]))"
   ]
  },
  {
   "cell_type": "code",
   "execution_count": null,
   "metadata": {},
   "outputs": [],
   "source": [
    "#optimal:\n",
    "# O(n) time complexity and space complexity\n",
    "def longestConsecutive( nums: list[int]) -> int:\n",
    "    nums = set(nums)\n",
    "    longest = 0\n",
    "    for n in nums:\n",
    "        length = 0\n",
    "        if (n-1) not in nums:\n",
    "            while((n+length) in nums):\n",
    "                length+=1\n",
    "            longest = max(longest,length)\n",
    "    return longest\n"
   ]
  }
 ],
 "metadata": {
  "kernelspec": {
   "display_name": "work",
   "language": "python",
   "name": "python3"
  },
  "language_info": {
   "codemirror_mode": {
    "name": "ipython",
    "version": 3
   },
   "file_extension": ".py",
   "mimetype": "text/x-python",
   "name": "python",
   "nbconvert_exporter": "python",
   "pygments_lexer": "ipython3",
   "version": "3.11.7"
  }
 },
 "nbformat": 4,
 "nbformat_minor": 2
}
