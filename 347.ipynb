{
 "cells": [
  {
   "cell_type": "code",
   "execution_count": 1,
   "metadata": {},
   "outputs": [
    {
     "name": "stdout",
     "output_type": "stream",
     "text": [
      "[0, 1, 2]\n"
     ]
    }
   ],
   "source": [
    "# Top K Frequent Elements\n",
    "#first way, find count of all elements, then find top k and return that\n",
    "def topKFrequent(nums,k):\n",
    "\tcount = {}\n",
    "\tfreq = [[] for i in range(len(nums)+1)]\n",
    "\tfor num in nums:\n",
    "\t\tcount[num] = 1 + count.get(num,0) #add one if its there, add 1 to 0 if not there\n",
    "\tfor n,c in count.items():\n",
    "\t\tfreq[c].append(n)\n",
    "\tres = []\n",
    "\tfor i in range(len(freq)-1,0,-1):\n",
    "\t\tfor n in freq[i]:\n",
    "\t\t\tres.append(n)\n",
    "\t\t\tif len(res)==k:\n",
    "\t\t\t\treturn res\n",
    "\n",
    "\t#using a heap is O(klogn) but this way is O(n)\n",
    "\t#still slow tho, 17th percentile runtime and 10th percentile memory"
   ]
  },
  {
   "cell_type": "code",
   "execution_count": 1,
   "metadata": {},
   "outputs": [
    {
     "name": "stdout",
     "output_type": "stream",
     "text": [
      "True\n"
     ]
    }
   ],
   "source": [
    "stack = []\n",
    "print(not stack)"
   ]
  }
 ],
 "metadata": {
  "kernelspec": {
   "display_name": "ecs117",
   "language": "python",
   "name": "python3"
  },
  "language_info": {
   "codemirror_mode": {
    "name": "ipython",
    "version": 3
   },
   "file_extension": ".py",
   "mimetype": "text/x-python",
   "name": "python",
   "nbconvert_exporter": "python",
   "pygments_lexer": "ipython3",
   "version": "3.11.7"
  }
 },
 "nbformat": 4,
 "nbformat_minor": 2
}
